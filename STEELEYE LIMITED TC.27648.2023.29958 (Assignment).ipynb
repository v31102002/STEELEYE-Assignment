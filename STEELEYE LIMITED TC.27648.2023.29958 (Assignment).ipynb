{
 "cells": [
  {
   "cell_type": "code",
   "execution_count": 2,
   "id": "dd573083",
   "metadata": {},
   "outputs": [],
   "source": [
    "import datetime as dt\n",
    "\n",
    "from typing import Optional\n",
    "from pydantic import BaseModel, Field\n",
    "\n",
    "class TradeDetails(BaseModel):\n",
    "    buySellIndicator: str = Field(description=\"A value of BUY for buys, SELL for sells.\")\n",
    "\n",
    "    price: float = Field(description=\"The price of the Trade.\")\n",
    "\n",
    "    quantity: int = Field(description=\"The amount of units traded.\")\n",
    "\n",
    "\n",
    "class Trade(BaseModel):\n",
    "    asset_class: Optional[str] = Field(alias=\"assetClass\", default=None, description=\"The asset class of the instrument traded. E.g. Bond, Equity, FX...etc\")\n",
    "\n",
    "    counterparty: Optional[str] = Field(default=None, description=\"The counterparty the trade was executed with. May not always be available\")\n",
    "\n",
    "    instrument_id: str = Field(alias=\"instrumentId\", description=\"The ISIN/ID of the instrument traded. E.g. TSLA, AAPL, AMZN...etc\")\n",
    "\n",
    "    instrument_name: str = Field(alias=\"instrumentName\", description=\"The name of the instrument traded.\")\n",
    "\n",
    "    trade_date_time: dt.datetime = Field(alias=\"tradeDateTime\", description=\"The date-time the Trade was executed\")\n",
    "\n",
    "    trade_details: TradeDetails = Field(alias=\"tradeDetails\", description=\"The details of the trade, i.e. price, quantity\")\n",
    "\n",
    "    trade_id: str = Field(alias=\"tradeId\", default=None, description=\"The unique ID of the trade\")\n",
    "\n",
    "    trader: str = Field(description=\"The name of the Trader\")\n",
    "        \n",
    "        \n"
   ]
  },
  {
   "cell_type": "code",
   "execution_count": null,
   "id": "e6bf129f",
   "metadata": {},
   "outputs": [],
   "source": []
  }
 ],
 "metadata": {
  "kernelspec": {
   "display_name": "Python 3 (ipykernel)",
   "language": "python",
   "name": "python3"
  },
  "language_info": {
   "codemirror_mode": {
    "name": "ipython",
    "version": 3
   },
   "file_extension": ".py",
   "mimetype": "text/x-python",
   "name": "python",
   "nbconvert_exporter": "python",
   "pygments_lexer": "ipython3",
   "version": "3.9.7"
  }
 },
 "nbformat": 4,
 "nbformat_minor": 5
}
